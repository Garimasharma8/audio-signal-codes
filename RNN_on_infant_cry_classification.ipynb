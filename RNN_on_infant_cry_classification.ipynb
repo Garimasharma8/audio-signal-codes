{
  "nbformat": 4,
  "nbformat_minor": 0,
  "metadata": {
    "colab": {
      "name": "RNN_on_infant_cry_classification.ipynb",
      "provenance": [],
      "authorship_tag": "ABX9TyOu1SUewE9JR3jfT34HzUwk",
      "include_colab_link": true
    },
    "kernelspec": {
      "name": "python3",
      "display_name": "Python 3"
    },
    "language_info": {
      "name": "python"
    },
    "accelerator": "GPU"
  },
  "cells": [
    {
      "cell_type": "markdown",
      "metadata": {
        "id": "view-in-github",
        "colab_type": "text"
      },
      "source": [
        "<a href=\"https://colab.research.google.com/github/Garimasharma8/audio-signal-codes/blob/main/RNN_on_infant_cry_classification.ipynb\" target=\"_parent\"><img src=\"https://colab.research.google.com/assets/colab-badge.svg\" alt=\"Open In Colab\"/></a>"
      ]
    },
    {
      "cell_type": "code",
      "execution_count": 3,
      "metadata": {
        "id": "pfSNDRDXdam9"
      },
      "outputs": [],
      "source": [
        "# import libraries\n",
        "import pandas as pd\n",
        "import numpy as np\n",
        "import matplotlib as plt\n",
        "import tensorflow as tf\n",
        "import keras\n",
        "from keras.layers import LSTM, Dense, Dropout\n",
        "from keras.models import Sequential\n",
        "from keras.metrics import Accuracy"
      ]
    },
    {
      "cell_type": "code",
      "source": [
        "# Mount google drive on colab\n",
        "from google.colab import drive\n",
        "drive.mount('/content/drive')"
      ],
      "metadata": {
        "colab": {
          "base_uri": "https://localhost:8080/"
        },
        "id": "ArN-lUWPeQ0Q",
        "outputId": "4575a48b-c5a0-4910-e09b-2841f8b6187c"
      },
      "execution_count": 4,
      "outputs": [
        {
          "output_type": "stream",
          "name": "stdout",
          "text": [
            "Mounted at /content/drive\n"
          ]
        }
      ]
    },
    {
      "cell_type": "code",
      "source": [
        "X1 = pd.read_csv('/content/drive/MyDrive/Colab Notebooks/donateacry_corpus_cleaned_and_updated_data/infant_smt.csv',header=None).to_numpy()\n",
        "Y1 = pd.read_csv('/content/drive/MyDrive/Colab Notebooks/donateacry_corpus_cleaned_and_updated_data/infant_group_smt.csv',header=None).to_numpy()\n"
      ],
      "metadata": {
        "id": "OPgy3ihajf4i"
      },
      "execution_count": 5,
      "outputs": []
    },
    {
      "cell_type": "code",
      "source": [
        "Y1.shape"
      ],
      "metadata": {
        "colab": {
          "base_uri": "https://localhost:8080/"
        },
        "id": "Nxr11KuP8L0k",
        "outputId": "c27bf357-317a-4d84-ec90-bf9a7c0f357d"
      },
      "execution_count": 6,
      "outputs": [
        {
          "output_type": "execute_result",
          "data": {
            "text/plain": [
              "(1, 10500)"
            ]
          },
          "metadata": {},
          "execution_count": 6
        }
      ]
    },
    {
      "cell_type": "code",
      "source": [
        "\n",
        "print(X1.shape)\n",
        "\n",
        "\n",
        "X = np.array((X1-np.min(X1))/(np.max(X1)-np.min(X1)))\n",
        "X = X/np.std(X)\n",
        "y=Y1\n",
        "y=np.transpose(y)\n"
      ],
      "metadata": {
        "colab": {
          "base_uri": "https://localhost:8080/"
        },
        "id": "u1IobAmAnUSy",
        "outputId": "94cbe382-e3e3-4540-ef68-62cc37988f4a"
      },
      "execution_count": 7,
      "outputs": [
        {
          "output_type": "stream",
          "name": "stdout",
          "text": [
            "(10500, 520)\n"
          ]
        }
      ]
    },
    {
      "cell_type": "code",
      "source": [
        "X = X.reshape(10500,520,1)\n",
        "y = y.reshape(10500,1,1)"
      ],
      "metadata": {
        "id": "Qtib8XKGAVOR"
      },
      "execution_count": 8,
      "outputs": []
    },
    {
      "cell_type": "code",
      "source": [
        ""
      ],
      "metadata": {
        "id": "SK27IBaAAVEU"
      },
      "execution_count": 8,
      "outputs": []
    },
    {
      "cell_type": "code",
      "source": [
        "# split data in train-test-val set\n",
        "from sklearn.model_selection import train_test_split\n",
        "\n",
        "x_train, x_test, y_train, y_test = train_test_split(X, y, test_size=0.3, random_state=10, shuffle=True)\n",
        "x_train, x_val, y_train,y_val = train_test_split(x_train,y_train,test_size=0.25, random_state=10, shuffle=False)\n",
        "print(y_train.shape, y_test.shape, y_val.shape)"
      ],
      "metadata": {
        "colab": {
          "base_uri": "https://localhost:8080/"
        },
        "id": "nqZEt--4mF22",
        "outputId": "c61a853e-b98a-475e-cb12-a9638fed1125"
      },
      "execution_count": 9,
      "outputs": [
        {
          "output_type": "stream",
          "name": "stdout",
          "text": [
            "(5512, 1, 1) (3150, 1, 1) (1838, 1, 1)\n"
          ]
        }
      ]
    },
    {
      "cell_type": "code",
      "source": [
        "y_train"
      ],
      "metadata": {
        "colab": {
          "base_uri": "https://localhost:8080/"
        },
        "id": "k_d2HeL88CEq",
        "outputId": "f5bf4065-3db8-4adb-b263-ee31af3b002c"
      },
      "execution_count": 10,
      "outputs": [
        {
          "output_type": "execute_result",
          "data": {
            "text/plain": [
              "array([[[1]],\n",
              "\n",
              "       [[3]],\n",
              "\n",
              "       [[1]],\n",
              "\n",
              "       ...,\n",
              "\n",
              "       [[2]],\n",
              "\n",
              "       [[4]],\n",
              "\n",
              "       [[1]]])"
            ]
          },
          "metadata": {},
          "execution_count": 10
        }
      ]
    },
    {
      "cell_type": "code",
      "source": [
        "# create a RNN\n",
        "input_shape = (520,1)\n",
        "model = keras.Sequential()\n",
        "model.add(LSTM(128, input_shape=input_shape ))\n",
        "model.add(Dropout(0.2))\n",
        "model.add(Dense(128,activation='relu' ))\n",
        "model.add(Dense(64, activation='relu'))\n",
        "model.add(Dropout(0.2))\n",
        "model.add(Dense(5, activation='relu'))\n",
        "model.summary()"
      ],
      "metadata": {
        "colab": {
          "base_uri": "https://localhost:8080/"
        },
        "id": "zHlQOTIlqmws",
        "outputId": "8fd12d81-f6e2-43e2-e8eb-dc2f3094652b"
      },
      "execution_count": 11,
      "outputs": [
        {
          "output_type": "stream",
          "name": "stdout",
          "text": [
            "Model: \"sequential\"\n",
            "_________________________________________________________________\n",
            " Layer (type)                Output Shape              Param #   \n",
            "=================================================================\n",
            " lstm (LSTM)                 (None, 128)               66560     \n",
            "                                                                 \n",
            " dropout (Dropout)           (None, 128)               0         \n",
            "                                                                 \n",
            " dense (Dense)               (None, 128)               16512     \n",
            "                                                                 \n",
            " dense_1 (Dense)             (None, 64)                8256      \n",
            "                                                                 \n",
            " dropout_1 (Dropout)         (None, 64)                0         \n",
            "                                                                 \n",
            " dense_2 (Dense)             (None, 5)                 325       \n",
            "                                                                 \n",
            "=================================================================\n",
            "Total params: 91,653\n",
            "Trainable params: 91,653\n",
            "Non-trainable params: 0\n",
            "_________________________________________________________________\n"
          ]
        }
      ]
    },
    {
      "cell_type": "code",
      "source": [
        "# complie \n",
        "model.compile(optimizer='adam', loss='binary_crossentropy', metrics = ['acc'])\n",
        "print(x_train.shape, y_train.shape, x_val.shape, y_val.shape)"
      ],
      "metadata": {
        "colab": {
          "base_uri": "https://localhost:8080/"
        },
        "id": "udE8EDmdsWdy",
        "outputId": "8aeec038-f52f-4c95-8388-54bfd45fe3b3"
      },
      "execution_count": 12,
      "outputs": [
        {
          "output_type": "stream",
          "name": "stdout",
          "text": [
            "(5512, 520, 1) (5512, 1, 1) (1838, 520, 1) (1838, 1, 1)\n"
          ]
        }
      ]
    },
    {
      "cell_type": "code",
      "source": [
        "import keras\n",
        "model.fit(x_train,y_train, batch_size = 70, epochs=50, validation_data=(x_val,y_val), shuffle=(False))\n"
      ],
      "metadata": {
        "colab": {
          "base_uri": "https://localhost:8080/"
        },
        "id": "MwE7aoimt3bl",
        "outputId": "498bad45-bcf9-454c-9c50-dfff39f55ef1"
      },
      "execution_count": null,
      "outputs": [
        {
          "output_type": "stream",
          "name": "stdout",
          "text": [
            "Epoch 1/50\n",
            "79/79 [==============================] - 16s 115ms/step - loss: -10.7735 - acc: 0.2012 - val_loss: -15.4401 - val_acc: 0.1980\n",
            "Epoch 2/50\n",
            "79/79 [==============================] - 8s 105ms/step - loss: -15.3540 - acc: 0.2030 - val_loss: -15.4401 - val_acc: 0.1980\n",
            "Epoch 3/50\n",
            "79/79 [==============================] - 8s 105ms/step - loss: -15.3574 - acc: 0.1974 - val_loss: -15.4401 - val_acc: 0.1997\n",
            "Epoch 4/50\n",
            "79/79 [==============================] - 8s 108ms/step - loss: -15.3539 - acc: 0.2059 - val_loss: -15.4401 - val_acc: 0.1997\n",
            "Epoch 5/50\n",
            "79/79 [==============================] - 8s 106ms/step - loss: -15.3603 - acc: 0.2065 - val_loss: -15.4401 - val_acc: 0.1997\n",
            "Epoch 6/50\n",
            "79/79 [==============================] - 8s 105ms/step - loss: -15.3594 - acc: 0.2070 - val_loss: -15.4401 - val_acc: 0.1997\n",
            "Epoch 7/50\n",
            "79/79 [==============================] - 8s 104ms/step - loss: -15.3615 - acc: 0.2005 - val_loss: -15.4401 - val_acc: 0.1997\n",
            "Epoch 8/50\n",
            "79/79 [==============================] - 8s 105ms/step - loss: -15.3625 - acc: 0.2054 - val_loss: -15.4401 - val_acc: 0.1997\n",
            "Epoch 9/50\n",
            "79/79 [==============================] - 8s 104ms/step - loss: -15.3627 - acc: 0.2039 - val_loss: -15.4401 - val_acc: 0.1997\n",
            "Epoch 10/50\n",
            "79/79 [==============================] - 8s 105ms/step - loss: -15.3626 - acc: 0.2041 - val_loss: -15.4401 - val_acc: 0.1997\n",
            "Epoch 11/50\n",
            "79/79 [==============================] - 8s 104ms/step - loss: -15.3627 - acc: 0.2066 - val_loss: -15.4401 - val_acc: 0.1997\n",
            "Epoch 12/50\n",
            "79/79 [==============================] - 8s 104ms/step - loss: -15.3627 - acc: 0.2101 - val_loss: -15.4401 - val_acc: 0.1997\n",
            "Epoch 13/50\n",
            "79/79 [==============================] - 8s 104ms/step - loss: -15.3626 - acc: 0.2014 - val_loss: -15.4401 - val_acc: 0.1997\n",
            "Epoch 14/50\n",
            "79/79 [==============================] - 8s 104ms/step - loss: -15.3583 - acc: 0.2108 - val_loss: -15.4401 - val_acc: 0.1997\n",
            "Epoch 15/50\n",
            "79/79 [==============================] - 8s 104ms/step - loss: -15.3627 - acc: 0.2072 - val_loss: -15.4401 - val_acc: 0.1997\n",
            "Epoch 16/50\n",
            "79/79 [==============================] - 8s 104ms/step - loss: -15.3627 - acc: 0.2086 - val_loss: -15.4401 - val_acc: 0.1997\n",
            "Epoch 17/50\n",
            "79/79 [==============================] - 8s 104ms/step - loss: -15.3577 - acc: 0.2173 - val_loss: -15.4401 - val_acc: 0.1997\n",
            "Epoch 18/50\n",
            "79/79 [==============================] - 8s 104ms/step - loss: -15.3627 - acc: 0.2030 - val_loss: -15.4401 - val_acc: 0.1997\n",
            "Epoch 19/50\n",
            "79/79 [==============================] - 8s 104ms/step - loss: -15.3627 - acc: 0.2123 - val_loss: -15.4401 - val_acc: 0.1997\n",
            "Epoch 20/50\n",
            "79/79 [==============================] - 8s 105ms/step - loss: -15.3627 - acc: 0.2103 - val_loss: -15.4401 - val_acc: 0.1997\n",
            "Epoch 21/50\n",
            "79/79 [==============================] - 8s 104ms/step - loss: -15.3627 - acc: 0.2052 - val_loss: -15.4401 - val_acc: 0.1997\n",
            "Epoch 22/50\n",
            "79/79 [==============================] - 8s 105ms/step - loss: -15.3627 - acc: 0.2090 - val_loss: -15.4401 - val_acc: 0.1997\n",
            "Epoch 23/50\n",
            "79/79 [==============================] - 8s 105ms/step - loss: -15.3632 - acc: 0.2068 - val_loss: -15.4401 - val_acc: 0.1997\n",
            "Epoch 24/50\n",
            "79/79 [==============================] - 8s 105ms/step - loss: -15.3632 - acc: 0.2123 - val_loss: -15.4401 - val_acc: 0.1997\n",
            "Epoch 25/50\n",
            "79/79 [==============================] - 8s 106ms/step - loss: -15.3627 - acc: 0.2063 - val_loss: -15.4401 - val_acc: 0.1997\n",
            "Epoch 26/50\n",
            "64/79 [=======================>......] - ETA: 1s - loss: -15.4399 - acc: 0.2042"
          ]
        }
      ]
    }
  ]
}